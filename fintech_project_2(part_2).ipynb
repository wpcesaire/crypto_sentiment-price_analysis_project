{
  "nbformat": 4,
  "nbformat_minor": 0,
  "metadata": {
    "kernelspec": {
      "display_name": "Python 3",
      "language": "python",
      "name": "python3"
    },
    "language_info": {
      "codemirror_mode": {
        "name": "ipython",
        "version": 3
      },
      "file_extension": ".py",
      "mimetype": "text/x-python",
      "name": "python",
      "nbconvert_exporter": "python",
      "pygments_lexer": "ipython3",
      "version": "3.7.7"
    },
    "colab": {
      "name": " fintech-project-2(part 2).ipynb",
      "provenance": [],
      "include_colab_link": true
    }
  },
  "cells": [
    {
      "cell_type": "markdown",
      "metadata": {
        "id": "view-in-github",
        "colab_type": "text"
      },
      "source": [
        "<a href=\"https://colab.research.google.com/github/wpcesaire/fintech-project-2/blob/master/fintech_project_2(part_2).ipynb\" target=\"_parent\"><img src=\"https://colab.research.google.com/assets/colab-badge.svg\" alt=\"Open In Colab\"/></a>"
      ]
    },
    {
      "cell_type": "markdown",
      "metadata": {
        "id": "pyJg6tLyNFUt",
        "colab_type": "text"
      },
      "source": [
        "# Columbia University FinTech Program: Project 2"
      ]
    },
    {
      "cell_type": "markdown",
      "metadata": {
        "id": "KmpP0gmANFUu",
        "colab_type": "text"
      },
      "source": [
        "### Team Members:\n",
        "#### Corey Recai\n",
        "#### Whelan Power\n",
        "#### Rachel Solomon\n",
        "#### Ernest Subah"
      ]
    },
    {
      "cell_type": "markdown",
      "metadata": {
        "id": "VFRdvimYNFUv",
        "colab_type": "text"
      },
      "source": [
        "##### Objective: < TBD >"
      ]
    },
    {
      "cell_type": "code",
      "metadata": {
        "id": "Crg0_fSEQozD",
        "colab_type": "code",
        "colab": {
          "base_uri": "https://localhost:8080/",
          "height": 122
        },
        "outputId": "94231cb0-f438-43ff-f5ab-397e9bd75efe"
      },
      "source": [
        "!pip install pandas\n",
        "\n"
      ],
      "execution_count": 14,
      "outputs": [
        {
          "output_type": "stream",
          "text": [
            "Requirement already satisfied: pandas in /usr/local/lib/python3.6/dist-packages (1.0.5)\n",
            "Requirement already satisfied: numpy>=1.13.3 in /usr/local/lib/python3.6/dist-packages (from pandas) (1.18.5)\n",
            "Requirement already satisfied: pytz>=2017.2 in /usr/local/lib/python3.6/dist-packages (from pandas) (2018.9)\n",
            "Requirement already satisfied: python-dateutil>=2.6.1 in /usr/local/lib/python3.6/dist-packages (from pandas) (2.8.1)\n",
            "Requirement already satisfied: six>=1.5 in /usr/local/lib/python3.6/dist-packages (from python-dateutil>=2.6.1->pandas) (1.12.0)\n"
          ],
          "name": "stdout"
        }
      ]
    },
    {
      "cell_type": "code",
      "metadata": {
        "id": "wodm-SNBNFUw",
        "colab_type": "code",
        "colab": {
          "base_uri": "https://localhost:8080/",
          "height": 170
        },
        "outputId": "ae6551bb-a04f-4546-b4ed-0d627a598c69"
      },
      "source": [
        "# Import Libraries\n",
        "import matplotlib.pyplot as plt\n",
        "import os\n",
        "import pandas as pd\n",
        "get_ipython().run_line_magic(\"matplotlib\", \"inline\")\n",
        "import spacy\n",
        "import numpy as np\n",
        "\n",
        "from scipy.stats import norm\n",
        "%matplotlib inline\n",
        "from spacy import displacy\n",
        "from datetime import date, datetime, timedelta\n",
        "nlp = spacy.load(\"en_core_web_sm\")\n",
        "from nltk.sentiment.vader import SentimentIntensityAnalyzer\n",
        "from pathlib import Path\n",
        "\n",
        "\n",
        "from nltk.corpus import stopwords\n",
        "from collections import Counter\n",
        "from nltk.tokenize import word_tokenize, sent_tokenize\n",
        "from wordcloud import WordCloud\n",
        "import re\n",
        "import nltk\n",
        "nltk.download(\"vader_lexicon\")\n",
        "nltk.download('wordnet')\n",
        "nltk.download('stopwords')\n",
        "nltk.download('punkt')"
      ],
      "execution_count": 15,
      "outputs": [
        {
          "output_type": "stream",
          "text": [
            "[nltk_data] Downloading package vader_lexicon to /root/nltk_data...\n",
            "[nltk_data]   Package vader_lexicon is already up-to-date!\n",
            "[nltk_data] Downloading package wordnet to /root/nltk_data...\n",
            "[nltk_data]   Package wordnet is already up-to-date!\n",
            "[nltk_data] Downloading package stopwords to /root/nltk_data...\n",
            "[nltk_data]   Package stopwords is already up-to-date!\n",
            "[nltk_data] Downloading package punkt to /root/nltk_data...\n",
            "[nltk_data]   Package punkt is already up-to-date!\n"
          ],
          "name": "stdout"
        },
        {
          "output_type": "execute_result",
          "data": {
            "text/plain": [
              "True"
            ]
          },
          "metadata": {
            "tags": []
          },
          "execution_count": 15
        }
      ]
    },
    {
      "cell_type": "code",
      "metadata": {
        "id": "hALVKcDMNFU0",
        "colab_type": "code",
        "colab": {
          "base_uri": "https://localhost:8080/",
          "height": 359
        },
        "outputId": "9098bf35-cecd-4eb3-9d7e-cf045ab6af66"
      },
      "source": [
        "# Load Bitcoin file and Get Returns for Past xxx years\n",
        "bitcoin_price = pd.read_csv(Path('Kraken_BTCUSD.csv'))\n",
        "\n",
        "bitcoin_price.head(10)"
      ],
      "execution_count": 16,
      "outputs": [
        {
          "output_type": "execute_result",
          "data": {
            "text/html": [
              "<div>\n",
              "<style scoped>\n",
              "    .dataframe tbody tr th:only-of-type {\n",
              "        vertical-align: middle;\n",
              "    }\n",
              "\n",
              "    .dataframe tbody tr th {\n",
              "        vertical-align: top;\n",
              "    }\n",
              "\n",
              "    .dataframe thead th {\n",
              "        text-align: right;\n",
              "    }\n",
              "</style>\n",
              "<table border=\"1\" class=\"dataframe\">\n",
              "  <thead>\n",
              "    <tr style=\"text-align: right;\">\n",
              "      <th></th>\n",
              "      <th>Date</th>\n",
              "      <th>Symbol</th>\n",
              "      <th>Open</th>\n",
              "      <th>High</th>\n",
              "      <th>Low</th>\n",
              "      <th>Close</th>\n",
              "      <th>Volume BTC</th>\n",
              "      <th>Volume USD</th>\n",
              "    </tr>\n",
              "  </thead>\n",
              "  <tbody>\n",
              "    <tr>\n",
              "      <th>0</th>\n",
              "      <td>7/2/2020</td>\n",
              "      <td>BTCUSD</td>\n",
              "      <td>9234.5</td>\n",
              "      <td>9269.2</td>\n",
              "      <td>9207.9</td>\n",
              "      <td>9207.9</td>\n",
              "      <td>393.65</td>\n",
              "      <td>3638576.38</td>\n",
              "    </tr>\n",
              "    <tr>\n",
              "      <th>1</th>\n",
              "      <td>7/1/2020</td>\n",
              "      <td>BTCUSD</td>\n",
              "      <td>9133.9</td>\n",
              "      <td>9300.3</td>\n",
              "      <td>9094.2</td>\n",
              "      <td>9234.5</td>\n",
              "      <td>3526.90</td>\n",
              "      <td>32493548.69</td>\n",
              "    </tr>\n",
              "    <tr>\n",
              "      <th>2</th>\n",
              "      <td>6/30/2020</td>\n",
              "      <td>BTCUSD</td>\n",
              "      <td>9183.5</td>\n",
              "      <td>9199.0</td>\n",
              "      <td>9061.3</td>\n",
              "      <td>9133.9</td>\n",
              "      <td>2685.90</td>\n",
              "      <td>24568044.42</td>\n",
              "    </tr>\n",
              "    <tr>\n",
              "      <th>3</th>\n",
              "      <td>6/29/2020</td>\n",
              "      <td>BTCUSD</td>\n",
              "      <td>9113.7</td>\n",
              "      <td>9230.0</td>\n",
              "      <td>9013.0</td>\n",
              "      <td>9183.5</td>\n",
              "      <td>4167.45</td>\n",
              "      <td>38044216.83</td>\n",
              "    </tr>\n",
              "    <tr>\n",
              "      <th>4</th>\n",
              "      <td>6/28/2020</td>\n",
              "      <td>BTCUSD</td>\n",
              "      <td>9002.0</td>\n",
              "      <td>9189.3</td>\n",
              "      <td>8937.5</td>\n",
              "      <td>9113.7</td>\n",
              "      <td>2563.55</td>\n",
              "      <td>23264322.25</td>\n",
              "    </tr>\n",
              "    <tr>\n",
              "      <th>5</th>\n",
              "      <td>6/27/2020</td>\n",
              "      <td>BTCUSD</td>\n",
              "      <td>9150.3</td>\n",
              "      <td>9183.3</td>\n",
              "      <td>8812.8</td>\n",
              "      <td>9002.0</td>\n",
              "      <td>4250.28</td>\n",
              "      <td>38322054.84</td>\n",
              "    </tr>\n",
              "    <tr>\n",
              "      <th>6</th>\n",
              "      <td>6/26/2020</td>\n",
              "      <td>BTCUSD</td>\n",
              "      <td>9233.5</td>\n",
              "      <td>9285.0</td>\n",
              "      <td>9028.6</td>\n",
              "      <td>9150.3</td>\n",
              "      <td>5300.72</td>\n",
              "      <td>48566374.72</td>\n",
              "    </tr>\n",
              "    <tr>\n",
              "      <th>7</th>\n",
              "      <td>6/25/2020</td>\n",
              "      <td>BTCUSD</td>\n",
              "      <td>9282.0</td>\n",
              "      <td>9337.5</td>\n",
              "      <td>8992.4</td>\n",
              "      <td>9233.5</td>\n",
              "      <td>6244.42</td>\n",
              "      <td>57446412.92</td>\n",
              "    </tr>\n",
              "    <tr>\n",
              "      <th>8</th>\n",
              "      <td>6/24/2020</td>\n",
              "      <td>BTCUSD</td>\n",
              "      <td>9622.3</td>\n",
              "      <td>9661.7</td>\n",
              "      <td>9200.0</td>\n",
              "      <td>9282.0</td>\n",
              "      <td>5937.47</td>\n",
              "      <td>55703453.17</td>\n",
              "    </tr>\n",
              "    <tr>\n",
              "      <th>9</th>\n",
              "      <td>6/23/2020</td>\n",
              "      <td>BTCUSD</td>\n",
              "      <td>9694.0</td>\n",
              "      <td>9721.3</td>\n",
              "      <td>9575.8</td>\n",
              "      <td>9622.3</td>\n",
              "      <td>3628.24</td>\n",
              "      <td>34974789.86</td>\n",
              "    </tr>\n",
              "  </tbody>\n",
              "</table>\n",
              "</div>"
            ],
            "text/plain": [
              "        Date  Symbol    Open    High     Low   Close  Volume BTC   Volume USD\n",
              "0   7/2/2020  BTCUSD  9234.5  9269.2  9207.9  9207.9      393.65   3638576.38\n",
              "1   7/1/2020  BTCUSD  9133.9  9300.3  9094.2  9234.5     3526.90  32493548.69\n",
              "2  6/30/2020  BTCUSD  9183.5  9199.0  9061.3  9133.9     2685.90  24568044.42\n",
              "3  6/29/2020  BTCUSD  9113.7  9230.0  9013.0  9183.5     4167.45  38044216.83\n",
              "4  6/28/2020  BTCUSD  9002.0  9189.3  8937.5  9113.7     2563.55  23264322.25\n",
              "5  6/27/2020  BTCUSD  9150.3  9183.3  8812.8  9002.0     4250.28  38322054.84\n",
              "6  6/26/2020  BTCUSD  9233.5  9285.0  9028.6  9150.3     5300.72  48566374.72\n",
              "7  6/25/2020  BTCUSD  9282.0  9337.5  8992.4  9233.5     6244.42  57446412.92\n",
              "8  6/24/2020  BTCUSD  9622.3  9661.7  9200.0  9282.0     5937.47  55703453.17\n",
              "9  6/23/2020  BTCUSD  9694.0  9721.3  9575.8  9622.3     3628.24  34974789.86"
            ]
          },
          "metadata": {
            "tags": []
          },
          "execution_count": 16
        }
      ]
    },
    {
      "cell_type": "code",
      "metadata": {
        "id": "7gKPrfsXNFU3",
        "colab_type": "code",
        "colab": {}
      },
      "source": [
        "# Drop Bitcoing symbol, open, high, low and Volume USD\n",
        "bitcoin_price.drop(columns=['Symbol','Volume USD'], inplace=True)"
      ],
      "execution_count": 17,
      "outputs": []
    },
    {
      "cell_type": "code",
      "metadata": {
        "id": "ylu7bPZcNFU6",
        "colab_type": "code",
        "colab": {
          "base_uri": "https://localhost:8080/",
          "height": 359
        },
        "outputId": "ad72b982-ec59-4008-a8ba-f1dce1f7481b"
      },
      "source": [
        "bitcoin_price.head(10)"
      ],
      "execution_count": 18,
      "outputs": [
        {
          "output_type": "execute_result",
          "data": {
            "text/html": [
              "<div>\n",
              "<style scoped>\n",
              "    .dataframe tbody tr th:only-of-type {\n",
              "        vertical-align: middle;\n",
              "    }\n",
              "\n",
              "    .dataframe tbody tr th {\n",
              "        vertical-align: top;\n",
              "    }\n",
              "\n",
              "    .dataframe thead th {\n",
              "        text-align: right;\n",
              "    }\n",
              "</style>\n",
              "<table border=\"1\" class=\"dataframe\">\n",
              "  <thead>\n",
              "    <tr style=\"text-align: right;\">\n",
              "      <th></th>\n",
              "      <th>Date</th>\n",
              "      <th>Open</th>\n",
              "      <th>High</th>\n",
              "      <th>Low</th>\n",
              "      <th>Close</th>\n",
              "      <th>Volume BTC</th>\n",
              "    </tr>\n",
              "  </thead>\n",
              "  <tbody>\n",
              "    <tr>\n",
              "      <th>0</th>\n",
              "      <td>7/2/2020</td>\n",
              "      <td>9234.5</td>\n",
              "      <td>9269.2</td>\n",
              "      <td>9207.9</td>\n",
              "      <td>9207.9</td>\n",
              "      <td>393.65</td>\n",
              "    </tr>\n",
              "    <tr>\n",
              "      <th>1</th>\n",
              "      <td>7/1/2020</td>\n",
              "      <td>9133.9</td>\n",
              "      <td>9300.3</td>\n",
              "      <td>9094.2</td>\n",
              "      <td>9234.5</td>\n",
              "      <td>3526.90</td>\n",
              "    </tr>\n",
              "    <tr>\n",
              "      <th>2</th>\n",
              "      <td>6/30/2020</td>\n",
              "      <td>9183.5</td>\n",
              "      <td>9199.0</td>\n",
              "      <td>9061.3</td>\n",
              "      <td>9133.9</td>\n",
              "      <td>2685.90</td>\n",
              "    </tr>\n",
              "    <tr>\n",
              "      <th>3</th>\n",
              "      <td>6/29/2020</td>\n",
              "      <td>9113.7</td>\n",
              "      <td>9230.0</td>\n",
              "      <td>9013.0</td>\n",
              "      <td>9183.5</td>\n",
              "      <td>4167.45</td>\n",
              "    </tr>\n",
              "    <tr>\n",
              "      <th>4</th>\n",
              "      <td>6/28/2020</td>\n",
              "      <td>9002.0</td>\n",
              "      <td>9189.3</td>\n",
              "      <td>8937.5</td>\n",
              "      <td>9113.7</td>\n",
              "      <td>2563.55</td>\n",
              "    </tr>\n",
              "    <tr>\n",
              "      <th>5</th>\n",
              "      <td>6/27/2020</td>\n",
              "      <td>9150.3</td>\n",
              "      <td>9183.3</td>\n",
              "      <td>8812.8</td>\n",
              "      <td>9002.0</td>\n",
              "      <td>4250.28</td>\n",
              "    </tr>\n",
              "    <tr>\n",
              "      <th>6</th>\n",
              "      <td>6/26/2020</td>\n",
              "      <td>9233.5</td>\n",
              "      <td>9285.0</td>\n",
              "      <td>9028.6</td>\n",
              "      <td>9150.3</td>\n",
              "      <td>5300.72</td>\n",
              "    </tr>\n",
              "    <tr>\n",
              "      <th>7</th>\n",
              "      <td>6/25/2020</td>\n",
              "      <td>9282.0</td>\n",
              "      <td>9337.5</td>\n",
              "      <td>8992.4</td>\n",
              "      <td>9233.5</td>\n",
              "      <td>6244.42</td>\n",
              "    </tr>\n",
              "    <tr>\n",
              "      <th>8</th>\n",
              "      <td>6/24/2020</td>\n",
              "      <td>9622.3</td>\n",
              "      <td>9661.7</td>\n",
              "      <td>9200.0</td>\n",
              "      <td>9282.0</td>\n",
              "      <td>5937.47</td>\n",
              "    </tr>\n",
              "    <tr>\n",
              "      <th>9</th>\n",
              "      <td>6/23/2020</td>\n",
              "      <td>9694.0</td>\n",
              "      <td>9721.3</td>\n",
              "      <td>9575.8</td>\n",
              "      <td>9622.3</td>\n",
              "      <td>3628.24</td>\n",
              "    </tr>\n",
              "  </tbody>\n",
              "</table>\n",
              "</div>"
            ],
            "text/plain": [
              "        Date    Open    High     Low   Close  Volume BTC\n",
              "0   7/2/2020  9234.5  9269.2  9207.9  9207.9      393.65\n",
              "1   7/1/2020  9133.9  9300.3  9094.2  9234.5     3526.90\n",
              "2  6/30/2020  9183.5  9199.0  9061.3  9133.9     2685.90\n",
              "3  6/29/2020  9113.7  9230.0  9013.0  9183.5     4167.45\n",
              "4  6/28/2020  9002.0  9189.3  8937.5  9113.7     2563.55\n",
              "5  6/27/2020  9150.3  9183.3  8812.8  9002.0     4250.28\n",
              "6  6/26/2020  9233.5  9285.0  9028.6  9150.3     5300.72\n",
              "7  6/25/2020  9282.0  9337.5  8992.4  9233.5     6244.42\n",
              "8  6/24/2020  9622.3  9661.7  9200.0  9282.0     5937.47\n",
              "9  6/23/2020  9694.0  9721.3  9575.8  9622.3     3628.24"
            ]
          },
          "metadata": {
            "tags": []
          },
          "execution_count": 18
        }
      ]
    },
    {
      "cell_type": "code",
      "metadata": {
        "id": "1_gV8as2NFU9",
        "colab_type": "code",
        "colab": {
          "base_uri": "https://localhost:8080/",
          "height": 359
        },
        "outputId": "3ccfe1d1-02e3-47aa-b5a6-853dc8c3d5c6"
      },
      "source": [
        "bitcoin_price.tail(10)"
      ],
      "execution_count": 19,
      "outputs": [
        {
          "output_type": "execute_result",
          "data": {
            "text/html": [
              "<div>\n",
              "<style scoped>\n",
              "    .dataframe tbody tr th:only-of-type {\n",
              "        vertical-align: middle;\n",
              "    }\n",
              "\n",
              "    .dataframe tbody tr th {\n",
              "        vertical-align: top;\n",
              "    }\n",
              "\n",
              "    .dataframe thead th {\n",
              "        text-align: right;\n",
              "    }\n",
              "</style>\n",
              "<table border=\"1\" class=\"dataframe\">\n",
              "  <thead>\n",
              "    <tr style=\"text-align: right;\">\n",
              "      <th></th>\n",
              "      <th>Date</th>\n",
              "      <th>Open</th>\n",
              "      <th>High</th>\n",
              "      <th>Low</th>\n",
              "      <th>Close</th>\n",
              "      <th>Volume BTC</th>\n",
              "    </tr>\n",
              "  </thead>\n",
              "  <tbody>\n",
              "    <tr>\n",
              "      <th>2440</th>\n",
              "      <td>10/15/2013</td>\n",
              "      <td>135.59</td>\n",
              "      <td>153.00</td>\n",
              "      <td>133.88</td>\n",
              "      <td>133.88</td>\n",
              "      <td>4.30</td>\n",
              "    </tr>\n",
              "    <tr>\n",
              "      <th>2441</th>\n",
              "      <td>10/14/2013</td>\n",
              "      <td>131.84</td>\n",
              "      <td>135.59</td>\n",
              "      <td>131.84</td>\n",
              "      <td>135.59</td>\n",
              "      <td>12.01</td>\n",
              "    </tr>\n",
              "    <tr>\n",
              "      <th>2442</th>\n",
              "      <td>10/13/2013</td>\n",
              "      <td>127.00</td>\n",
              "      <td>131.84</td>\n",
              "      <td>127.00</td>\n",
              "      <td>131.84</td>\n",
              "      <td>0.10</td>\n",
              "    </tr>\n",
              "    <tr>\n",
              "      <th>2443</th>\n",
              "      <td>10/12/2013</td>\n",
              "      <td>125.86</td>\n",
              "      <td>127.50</td>\n",
              "      <td>125.86</td>\n",
              "      <td>127.00</td>\n",
              "      <td>4.00</td>\n",
              "    </tr>\n",
              "    <tr>\n",
              "      <th>2444</th>\n",
              "      <td>10/11/2013</td>\n",
              "      <td>125.86</td>\n",
              "      <td>125.86</td>\n",
              "      <td>125.86</td>\n",
              "      <td>125.86</td>\n",
              "      <td>0.00</td>\n",
              "    </tr>\n",
              "    <tr>\n",
              "      <th>2445</th>\n",
              "      <td>10/10/2013</td>\n",
              "      <td>123.84</td>\n",
              "      <td>125.86</td>\n",
              "      <td>123.84</td>\n",
              "      <td>125.86</td>\n",
              "      <td>2.00</td>\n",
              "    </tr>\n",
              "    <tr>\n",
              "      <th>2446</th>\n",
              "      <td>10/9/2013</td>\n",
              "      <td>124.18</td>\n",
              "      <td>124.18</td>\n",
              "      <td>123.84</td>\n",
              "      <td>123.84</td>\n",
              "      <td>2.82</td>\n",
              "    </tr>\n",
              "    <tr>\n",
              "      <th>2447</th>\n",
              "      <td>10/8/2013</td>\n",
              "      <td>123.61</td>\n",
              "      <td>124.19</td>\n",
              "      <td>123.61</td>\n",
              "      <td>124.18</td>\n",
              "      <td>3.99</td>\n",
              "    </tr>\n",
              "    <tr>\n",
              "      <th>2448</th>\n",
              "      <td>10/7/2013</td>\n",
              "      <td>122.00</td>\n",
              "      <td>123.61</td>\n",
              "      <td>122.00</td>\n",
              "      <td>123.61</td>\n",
              "      <td>0.10</td>\n",
              "    </tr>\n",
              "    <tr>\n",
              "      <th>2449</th>\n",
              "      <td>10/6/2013</td>\n",
              "      <td>238.00</td>\n",
              "      <td>238.00</td>\n",
              "      <td>122.00</td>\n",
              "      <td>122.00</td>\n",
              "      <td>0.10</td>\n",
              "    </tr>\n",
              "  </tbody>\n",
              "</table>\n",
              "</div>"
            ],
            "text/plain": [
              "            Date    Open    High     Low   Close  Volume BTC\n",
              "2440  10/15/2013  135.59  153.00  133.88  133.88        4.30\n",
              "2441  10/14/2013  131.84  135.59  131.84  135.59       12.01\n",
              "2442  10/13/2013  127.00  131.84  127.00  131.84        0.10\n",
              "2443  10/12/2013  125.86  127.50  125.86  127.00        4.00\n",
              "2444  10/11/2013  125.86  125.86  125.86  125.86        0.00\n",
              "2445  10/10/2013  123.84  125.86  123.84  125.86        2.00\n",
              "2446   10/9/2013  124.18  124.18  123.84  123.84        2.82\n",
              "2447   10/8/2013  123.61  124.19  123.61  124.18        3.99\n",
              "2448   10/7/2013  122.00  123.61  122.00  123.61        0.10\n",
              "2449   10/6/2013  238.00  238.00  122.00  122.00        0.10"
            ]
          },
          "metadata": {
            "tags": []
          },
          "execution_count": 19
        }
      ]
    },
    {
      "cell_type": "code",
      "metadata": {
        "id": "QK8K-s5yNFVA",
        "colab_type": "code",
        "colab": {}
      },
      "source": [
        "bitcoin_price['month'] = pd.to_datetime(bitcoin_price['Date']).dt.month\n",
        "bitcoin_price['year'] = pd.to_datetime(bitcoin_price['Date']).dt.year"
      ],
      "execution_count": 20,
      "outputs": []
    },
    {
      "cell_type": "code",
      "metadata": {
        "id": "od0wJVBYNFVD",
        "colab_type": "code",
        "colab": {
          "base_uri": "https://localhost:8080/",
          "height": 359
        },
        "outputId": "0a20ba58-55b9-4536-fd08-a30c88352b28"
      },
      "source": [
        "bitcoin_price = bitcoin_price[['month', 'year', 'Close', 'Volume BTC']]\n",
        "bitcoin_price.head(10)"
      ],
      "execution_count": 21,
      "outputs": [
        {
          "output_type": "execute_result",
          "data": {
            "text/html": [
              "<div>\n",
              "<style scoped>\n",
              "    .dataframe tbody tr th:only-of-type {\n",
              "        vertical-align: middle;\n",
              "    }\n",
              "\n",
              "    .dataframe tbody tr th {\n",
              "        vertical-align: top;\n",
              "    }\n",
              "\n",
              "    .dataframe thead th {\n",
              "        text-align: right;\n",
              "    }\n",
              "</style>\n",
              "<table border=\"1\" class=\"dataframe\">\n",
              "  <thead>\n",
              "    <tr style=\"text-align: right;\">\n",
              "      <th></th>\n",
              "      <th>month</th>\n",
              "      <th>year</th>\n",
              "      <th>Close</th>\n",
              "      <th>Volume BTC</th>\n",
              "    </tr>\n",
              "  </thead>\n",
              "  <tbody>\n",
              "    <tr>\n",
              "      <th>0</th>\n",
              "      <td>7</td>\n",
              "      <td>2020</td>\n",
              "      <td>9207.9</td>\n",
              "      <td>393.65</td>\n",
              "    </tr>\n",
              "    <tr>\n",
              "      <th>1</th>\n",
              "      <td>7</td>\n",
              "      <td>2020</td>\n",
              "      <td>9234.5</td>\n",
              "      <td>3526.90</td>\n",
              "    </tr>\n",
              "    <tr>\n",
              "      <th>2</th>\n",
              "      <td>6</td>\n",
              "      <td>2020</td>\n",
              "      <td>9133.9</td>\n",
              "      <td>2685.90</td>\n",
              "    </tr>\n",
              "    <tr>\n",
              "      <th>3</th>\n",
              "      <td>6</td>\n",
              "      <td>2020</td>\n",
              "      <td>9183.5</td>\n",
              "      <td>4167.45</td>\n",
              "    </tr>\n",
              "    <tr>\n",
              "      <th>4</th>\n",
              "      <td>6</td>\n",
              "      <td>2020</td>\n",
              "      <td>9113.7</td>\n",
              "      <td>2563.55</td>\n",
              "    </tr>\n",
              "    <tr>\n",
              "      <th>5</th>\n",
              "      <td>6</td>\n",
              "      <td>2020</td>\n",
              "      <td>9002.0</td>\n",
              "      <td>4250.28</td>\n",
              "    </tr>\n",
              "    <tr>\n",
              "      <th>6</th>\n",
              "      <td>6</td>\n",
              "      <td>2020</td>\n",
              "      <td>9150.3</td>\n",
              "      <td>5300.72</td>\n",
              "    </tr>\n",
              "    <tr>\n",
              "      <th>7</th>\n",
              "      <td>6</td>\n",
              "      <td>2020</td>\n",
              "      <td>9233.5</td>\n",
              "      <td>6244.42</td>\n",
              "    </tr>\n",
              "    <tr>\n",
              "      <th>8</th>\n",
              "      <td>6</td>\n",
              "      <td>2020</td>\n",
              "      <td>9282.0</td>\n",
              "      <td>5937.47</td>\n",
              "    </tr>\n",
              "    <tr>\n",
              "      <th>9</th>\n",
              "      <td>6</td>\n",
              "      <td>2020</td>\n",
              "      <td>9622.3</td>\n",
              "      <td>3628.24</td>\n",
              "    </tr>\n",
              "  </tbody>\n",
              "</table>\n",
              "</div>"
            ],
            "text/plain": [
              "   month  year   Close  Volume BTC\n",
              "0      7  2020  9207.9      393.65\n",
              "1      7  2020  9234.5     3526.90\n",
              "2      6  2020  9133.9     2685.90\n",
              "3      6  2020  9183.5     4167.45\n",
              "4      6  2020  9113.7     2563.55\n",
              "5      6  2020  9002.0     4250.28\n",
              "6      6  2020  9150.3     5300.72\n",
              "7      6  2020  9233.5     6244.42\n",
              "8      6  2020  9282.0     5937.47\n",
              "9      6  2020  9622.3     3628.24"
            ]
          },
          "metadata": {
            "tags": []
          },
          "execution_count": 21
        }
      ]
    },
    {
      "cell_type": "code",
      "metadata": {
        "id": "NaqdBxk4NFVF",
        "colab_type": "code",
        "colab": {
          "base_uri": "https://localhost:8080/",
          "height": 71
        },
        "outputId": "388208e0-1bd6-4a86-98dc-679832c67552"
      },
      "source": [
        "bitcoin_price = bitcoin_price.groupby(['year','month'])['Close', 'Volume BTC'].mean()"
      ],
      "execution_count": 63,
      "outputs": [
        {
          "output_type": "stream",
          "text": [
            "/usr/local/lib/python3.6/dist-packages/ipykernel_launcher.py:1: FutureWarning: Indexing with multiple keys (implicitly converted to a tuple of keys) will be deprecated, use a list instead.\n",
            "  \"\"\"Entry point for launching an IPython kernel.\n"
          ],
          "name": "stderr"
        }
      ]
    },
    {
      "cell_type": "code",
      "metadata": {
        "id": "YbLybFyoNFVI",
        "colab_type": "code",
        "colab": {
          "base_uri": "https://localhost:8080/",
          "height": 390
        },
        "outputId": "e37fdf6c-fde9-4c53-9762-80b4c26f9cd8"
      },
      "source": [
        "bitcoin_price.head(10)"
      ],
      "execution_count": 23,
      "outputs": [
        {
          "output_type": "execute_result",
          "data": {
            "text/html": [
              "<div>\n",
              "<style scoped>\n",
              "    .dataframe tbody tr th:only-of-type {\n",
              "        vertical-align: middle;\n",
              "    }\n",
              "\n",
              "    .dataframe tbody tr th {\n",
              "        vertical-align: top;\n",
              "    }\n",
              "\n",
              "    .dataframe thead th {\n",
              "        text-align: right;\n",
              "    }\n",
              "</style>\n",
              "<table border=\"1\" class=\"dataframe\">\n",
              "  <thead>\n",
              "    <tr style=\"text-align: right;\">\n",
              "      <th></th>\n",
              "      <th></th>\n",
              "      <th>Close</th>\n",
              "      <th>Volume BTC</th>\n",
              "    </tr>\n",
              "    <tr>\n",
              "      <th>year</th>\n",
              "      <th>month</th>\n",
              "      <th></th>\n",
              "      <th></th>\n",
              "    </tr>\n",
              "  </thead>\n",
              "  <tbody>\n",
              "    <tr>\n",
              "      <th rowspan=\"3\" valign=\"top\">2013</th>\n",
              "      <th>10</th>\n",
              "      <td>157.503462</td>\n",
              "      <td>17.912523</td>\n",
              "    </tr>\n",
              "    <tr>\n",
              "      <th>11</th>\n",
              "      <td>545.946333</td>\n",
              "      <td>33.560333</td>\n",
              "    </tr>\n",
              "    <tr>\n",
              "      <th>12</th>\n",
              "      <td>795.705806</td>\n",
              "      <td>44.567419</td>\n",
              "    </tr>\n",
              "    <tr>\n",
              "      <th rowspan=\"7\" valign=\"top\">2014</th>\n",
              "      <th>1</th>\n",
              "      <td>831.454839</td>\n",
              "      <td>23.316774</td>\n",
              "    </tr>\n",
              "    <tr>\n",
              "      <th>2</th>\n",
              "      <td>667.814286</td>\n",
              "      <td>31.096786</td>\n",
              "    </tr>\n",
              "    <tr>\n",
              "      <th>3</th>\n",
              "      <td>603.351935</td>\n",
              "      <td>13.635806</td>\n",
              "    </tr>\n",
              "    <tr>\n",
              "      <th>4</th>\n",
              "      <td>468.432333</td>\n",
              "      <td>13.903137</td>\n",
              "    </tr>\n",
              "    <tr>\n",
              "      <th>5</th>\n",
              "      <td>489.022581</td>\n",
              "      <td>9.305716</td>\n",
              "    </tr>\n",
              "    <tr>\n",
              "      <th>6</th>\n",
              "      <td>612.934667</td>\n",
              "      <td>15.210683</td>\n",
              "    </tr>\n",
              "    <tr>\n",
              "      <th>7</th>\n",
              "      <td>618.785484</td>\n",
              "      <td>6.349924</td>\n",
              "    </tr>\n",
              "  </tbody>\n",
              "</table>\n",
              "</div>"
            ],
            "text/plain": [
              "                 Close  Volume BTC\n",
              "year month                        \n",
              "2013 10     157.503462   17.912523\n",
              "     11     545.946333   33.560333\n",
              "     12     795.705806   44.567419\n",
              "2014 1      831.454839   23.316774\n",
              "     2      667.814286   31.096786\n",
              "     3      603.351935   13.635806\n",
              "     4      468.432333   13.903137\n",
              "     5      489.022581    9.305716\n",
              "     6      612.934667   15.210683\n",
              "     7      618.785484    6.349924"
            ]
          },
          "metadata": {
            "tags": []
          },
          "execution_count": 23
        }
      ]
    },
    {
      "cell_type": "code",
      "metadata": {
        "id": "caV6_K0gNFVL",
        "colab_type": "code",
        "colab": {}
      },
      "source": [
        "# Create a new column for price returns\n",
        "bitcoin_price['Price_Returns'] = bitcoin_price.Close.pct_change()\n",
        "\n",
        "# Create a new column for Adoption Rate\n",
        "bitcoin_price['Adoption_Rate'] = bitcoin_price['Volume BTC'].pct_change()"
      ],
      "execution_count": 64,
      "outputs": []
    },
    {
      "cell_type": "code",
      "metadata": {
        "id": "JQEGfssgaWmR",
        "colab_type": "code",
        "colab": {}
      },
      "source": [
        ""
      ],
      "execution_count": null,
      "outputs": []
    },
    {
      "cell_type": "markdown",
      "metadata": {
        "id": "0Qz-DHQ8aNDo",
        "colab_type": "text"
      },
      "source": [
        ""
      ]
    },
    {
      "cell_type": "markdown",
      "metadata": {
        "id": "Jpf0eFvzaM6p",
        "colab_type": "text"
      },
      "source": [
        ""
      ]
    },
    {
      "cell_type": "code",
      "metadata": {
        "id": "B7XqU47fNFVN",
        "colab_type": "code",
        "colab": {
          "base_uri": "https://localhost:8080/",
          "height": 390
        },
        "outputId": "1b1aa05a-32f5-4368-9150-b611b9bfbc49"
      },
      "source": [
        "bitcoin_price.head(10)"
      ],
      "execution_count": 25,
      "outputs": [
        {
          "output_type": "execute_result",
          "data": {
            "text/html": [
              "<div>\n",
              "<style scoped>\n",
              "    .dataframe tbody tr th:only-of-type {\n",
              "        vertical-align: middle;\n",
              "    }\n",
              "\n",
              "    .dataframe tbody tr th {\n",
              "        vertical-align: top;\n",
              "    }\n",
              "\n",
              "    .dataframe thead th {\n",
              "        text-align: right;\n",
              "    }\n",
              "</style>\n",
              "<table border=\"1\" class=\"dataframe\">\n",
              "  <thead>\n",
              "    <tr style=\"text-align: right;\">\n",
              "      <th></th>\n",
              "      <th></th>\n",
              "      <th>Close</th>\n",
              "      <th>Volume BTC</th>\n",
              "      <th>Price_Returns</th>\n",
              "      <th>Adoption_Rate</th>\n",
              "    </tr>\n",
              "    <tr>\n",
              "      <th>year</th>\n",
              "      <th>month</th>\n",
              "      <th></th>\n",
              "      <th></th>\n",
              "      <th></th>\n",
              "      <th></th>\n",
              "    </tr>\n",
              "  </thead>\n",
              "  <tbody>\n",
              "    <tr>\n",
              "      <th rowspan=\"3\" valign=\"top\">2013</th>\n",
              "      <th>10</th>\n",
              "      <td>157.503462</td>\n",
              "      <td>17.912523</td>\n",
              "      <td>NaN</td>\n",
              "      <td>NaN</td>\n",
              "    </tr>\n",
              "    <tr>\n",
              "      <th>11</th>\n",
              "      <td>545.946333</td>\n",
              "      <td>33.560333</td>\n",
              "      <td>2.466250</td>\n",
              "      <td>0.873568</td>\n",
              "    </tr>\n",
              "    <tr>\n",
              "      <th>12</th>\n",
              "      <td>795.705806</td>\n",
              "      <td>44.567419</td>\n",
              "      <td>0.457480</td>\n",
              "      <td>0.327979</td>\n",
              "    </tr>\n",
              "    <tr>\n",
              "      <th rowspan=\"7\" valign=\"top\">2014</th>\n",
              "      <th>1</th>\n",
              "      <td>831.454839</td>\n",
              "      <td>23.316774</td>\n",
              "      <td>0.044927</td>\n",
              "      <td>-0.476820</td>\n",
              "    </tr>\n",
              "    <tr>\n",
              "      <th>2</th>\n",
              "      <td>667.814286</td>\n",
              "      <td>31.096786</td>\n",
              "      <td>-0.196812</td>\n",
              "      <td>0.333666</td>\n",
              "    </tr>\n",
              "    <tr>\n",
              "      <th>3</th>\n",
              "      <td>603.351935</td>\n",
              "      <td>13.635806</td>\n",
              "      <td>-0.096527</td>\n",
              "      <td>-0.561504</td>\n",
              "    </tr>\n",
              "    <tr>\n",
              "      <th>4</th>\n",
              "      <td>468.432333</td>\n",
              "      <td>13.903137</td>\n",
              "      <td>-0.223617</td>\n",
              "      <td>0.019605</td>\n",
              "    </tr>\n",
              "    <tr>\n",
              "      <th>5</th>\n",
              "      <td>489.022581</td>\n",
              "      <td>9.305716</td>\n",
              "      <td>0.043956</td>\n",
              "      <td>-0.330675</td>\n",
              "    </tr>\n",
              "    <tr>\n",
              "      <th>6</th>\n",
              "      <td>612.934667</td>\n",
              "      <td>15.210683</td>\n",
              "      <td>0.253387</td>\n",
              "      <td>0.634553</td>\n",
              "    </tr>\n",
              "    <tr>\n",
              "      <th>7</th>\n",
              "      <td>618.785484</td>\n",
              "      <td>6.349924</td>\n",
              "      <td>0.009546</td>\n",
              "      <td>-0.582535</td>\n",
              "    </tr>\n",
              "  </tbody>\n",
              "</table>\n",
              "</div>"
            ],
            "text/plain": [
              "                 Close  Volume BTC  Price_Returns  Adoption_Rate\n",
              "year month                                                      \n",
              "2013 10     157.503462   17.912523            NaN            NaN\n",
              "     11     545.946333   33.560333       2.466250       0.873568\n",
              "     12     795.705806   44.567419       0.457480       0.327979\n",
              "2014 1      831.454839   23.316774       0.044927      -0.476820\n",
              "     2      667.814286   31.096786      -0.196812       0.333666\n",
              "     3      603.351935   13.635806      -0.096527      -0.561504\n",
              "     4      468.432333   13.903137      -0.223617       0.019605\n",
              "     5      489.022581    9.305716       0.043956      -0.330675\n",
              "     6      612.934667   15.210683       0.253387       0.634553\n",
              "     7      618.785484    6.349924       0.009546      -0.582535"
            ]
          },
          "metadata": {
            "tags": []
          },
          "execution_count": 25
        }
      ]
    },
    {
      "cell_type": "code",
      "metadata": {
        "id": "l1dQzfJZNFVQ",
        "colab_type": "code",
        "colab": {
          "base_uri": "https://localhost:8080/",
          "height": 235
        },
        "outputId": "ad6d76f6-3564-4a6b-f419-2120dca9674c"
      },
      "source": [
        "bitcoin_price = bitcoin_price.dropna()\n",
        "bitcoin_price.head()"
      ],
      "execution_count": 26,
      "outputs": [
        {
          "output_type": "execute_result",
          "data": {
            "text/html": [
              "<div>\n",
              "<style scoped>\n",
              "    .dataframe tbody tr th:only-of-type {\n",
              "        vertical-align: middle;\n",
              "    }\n",
              "\n",
              "    .dataframe tbody tr th {\n",
              "        vertical-align: top;\n",
              "    }\n",
              "\n",
              "    .dataframe thead th {\n",
              "        text-align: right;\n",
              "    }\n",
              "</style>\n",
              "<table border=\"1\" class=\"dataframe\">\n",
              "  <thead>\n",
              "    <tr style=\"text-align: right;\">\n",
              "      <th></th>\n",
              "      <th></th>\n",
              "      <th>Close</th>\n",
              "      <th>Volume BTC</th>\n",
              "      <th>Price_Returns</th>\n",
              "      <th>Adoption_Rate</th>\n",
              "    </tr>\n",
              "    <tr>\n",
              "      <th>year</th>\n",
              "      <th>month</th>\n",
              "      <th></th>\n",
              "      <th></th>\n",
              "      <th></th>\n",
              "      <th></th>\n",
              "    </tr>\n",
              "  </thead>\n",
              "  <tbody>\n",
              "    <tr>\n",
              "      <th rowspan=\"2\" valign=\"top\">2013</th>\n",
              "      <th>11</th>\n",
              "      <td>545.946333</td>\n",
              "      <td>33.560333</td>\n",
              "      <td>2.466250</td>\n",
              "      <td>0.873568</td>\n",
              "    </tr>\n",
              "    <tr>\n",
              "      <th>12</th>\n",
              "      <td>795.705806</td>\n",
              "      <td>44.567419</td>\n",
              "      <td>0.457480</td>\n",
              "      <td>0.327979</td>\n",
              "    </tr>\n",
              "    <tr>\n",
              "      <th rowspan=\"3\" valign=\"top\">2014</th>\n",
              "      <th>1</th>\n",
              "      <td>831.454839</td>\n",
              "      <td>23.316774</td>\n",
              "      <td>0.044927</td>\n",
              "      <td>-0.476820</td>\n",
              "    </tr>\n",
              "    <tr>\n",
              "      <th>2</th>\n",
              "      <td>667.814286</td>\n",
              "      <td>31.096786</td>\n",
              "      <td>-0.196812</td>\n",
              "      <td>0.333666</td>\n",
              "    </tr>\n",
              "    <tr>\n",
              "      <th>3</th>\n",
              "      <td>603.351935</td>\n",
              "      <td>13.635806</td>\n",
              "      <td>-0.096527</td>\n",
              "      <td>-0.561504</td>\n",
              "    </tr>\n",
              "  </tbody>\n",
              "</table>\n",
              "</div>"
            ],
            "text/plain": [
              "                 Close  Volume BTC  Price_Returns  Adoption_Rate\n",
              "year month                                                      \n",
              "2013 11     545.946333   33.560333       2.466250       0.873568\n",
              "     12     795.705806   44.567419       0.457480       0.327979\n",
              "2014 1      831.454839   23.316774       0.044927      -0.476820\n",
              "     2      667.814286   31.096786      -0.196812       0.333666\n",
              "     3      603.351935   13.635806      -0.096527      -0.561504"
            ]
          },
          "metadata": {
            "tags": []
          },
          "execution_count": 26
        }
      ]
    },
    {
      "cell_type": "code",
      "metadata": {
        "id": "o5kKkGCWNFVS",
        "colab_type": "code",
        "colab": {
          "base_uri": "https://localhost:8080/",
          "height": 700
        },
        "outputId": "9c148402-e58e-4da8-aacf-b644529be701"
      },
      "source": [
        "Adoption_Rate_Sentiment = []\n",
        "tempdf = pd.DataFrame(bitcoin_price['Adoption_Rate'])\n",
        "\n",
        "for index, row in tempdf.iterrows():\n",
        "  #print(row)\n",
        "  if (row >= 0).bool():\n",
        "    Adoption_Rate_Sentiment.append(1)\n",
        "  else:\n",
        "    Adoption_Rate_Sentiment.append(0)\n",
        "\n",
        "bitcoin_price['Adoption_Sentiment'] = Adoption_Rate_Sentiment\n",
        "\n",
        "bitcoin_price.tail(20)"
      ],
      "execution_count": 27,
      "outputs": [
        {
          "output_type": "execute_result",
          "data": {
            "text/html": [
              "<div>\n",
              "<style scoped>\n",
              "    .dataframe tbody tr th:only-of-type {\n",
              "        vertical-align: middle;\n",
              "    }\n",
              "\n",
              "    .dataframe tbody tr th {\n",
              "        vertical-align: top;\n",
              "    }\n",
              "\n",
              "    .dataframe thead th {\n",
              "        text-align: right;\n",
              "    }\n",
              "</style>\n",
              "<table border=\"1\" class=\"dataframe\">\n",
              "  <thead>\n",
              "    <tr style=\"text-align: right;\">\n",
              "      <th></th>\n",
              "      <th></th>\n",
              "      <th>Close</th>\n",
              "      <th>Volume BTC</th>\n",
              "      <th>Price_Returns</th>\n",
              "      <th>Adoption_Rate</th>\n",
              "      <th>Adoption_Sentiment</th>\n",
              "    </tr>\n",
              "    <tr>\n",
              "      <th>year</th>\n",
              "      <th>month</th>\n",
              "      <th></th>\n",
              "      <th></th>\n",
              "      <th></th>\n",
              "      <th></th>\n",
              "      <th></th>\n",
              "    </tr>\n",
              "  </thead>\n",
              "  <tbody>\n",
              "    <tr>\n",
              "      <th>2018</th>\n",
              "      <th>12</th>\n",
              "      <td>3660.961290</td>\n",
              "      <td>10809.249677</td>\n",
              "      <td>-0.315361</td>\n",
              "      <td>0.420798</td>\n",
              "      <td>1</td>\n",
              "    </tr>\n",
              "    <tr>\n",
              "      <th rowspan=\"12\" valign=\"top\">2019</th>\n",
              "      <th>1</th>\n",
              "      <td>3658.887097</td>\n",
              "      <td>5676.563871</td>\n",
              "      <td>-0.000567</td>\n",
              "      <td>-0.474842</td>\n",
              "      <td>0</td>\n",
              "    </tr>\n",
              "    <tr>\n",
              "      <th>2</th>\n",
              "      <td>3659.517857</td>\n",
              "      <td>5037.871786</td>\n",
              "      <td>0.000172</td>\n",
              "      <td>-0.112514</td>\n",
              "      <td>0</td>\n",
              "    </tr>\n",
              "    <tr>\n",
              "      <th>3</th>\n",
              "      <td>3870.152632</td>\n",
              "      <td>3066.398947</td>\n",
              "      <td>0.057558</td>\n",
              "      <td>-0.391330</td>\n",
              "      <td>0</td>\n",
              "    </tr>\n",
              "    <tr>\n",
              "      <th>4</th>\n",
              "      <td>5145.396667</td>\n",
              "      <td>6688.315667</td>\n",
              "      <td>0.329507</td>\n",
              "      <td>1.181163</td>\n",
              "      <td>1</td>\n",
              "    </tr>\n",
              "    <tr>\n",
              "      <th>5</th>\n",
              "      <td>7290.680645</td>\n",
              "      <td>9762.940968</td>\n",
              "      <td>0.416933</td>\n",
              "      <td>0.459701</td>\n",
              "      <td>1</td>\n",
              "    </tr>\n",
              "    <tr>\n",
              "      <th>6</th>\n",
              "      <td>9396.356667</td>\n",
              "      <td>9015.924667</td>\n",
              "      <td>0.288817</td>\n",
              "      <td>-0.076515</td>\n",
              "      <td>0</td>\n",
              "    </tr>\n",
              "    <tr>\n",
              "      <th>7</th>\n",
              "      <td>10668.674194</td>\n",
              "      <td>8513.994194</td>\n",
              "      <td>0.135405</td>\n",
              "      <td>-0.055672</td>\n",
              "      <td>0</td>\n",
              "    </tr>\n",
              "    <tr>\n",
              "      <th>8</th>\n",
              "      <td>10631.609677</td>\n",
              "      <td>5779.655806</td>\n",
              "      <td>-0.003474</td>\n",
              "      <td>-0.321158</td>\n",
              "      <td>0</td>\n",
              "    </tr>\n",
              "    <tr>\n",
              "      <th>9</th>\n",
              "      <td>9790.593333</td>\n",
              "      <td>5091.644333</td>\n",
              "      <td>-0.079105</td>\n",
              "      <td>-0.119040</td>\n",
              "      <td>0</td>\n",
              "    </tr>\n",
              "    <tr>\n",
              "      <th>10</th>\n",
              "      <td>8382.764516</td>\n",
              "      <td>5464.444194</td>\n",
              "      <td>-0.143794</td>\n",
              "      <td>0.073218</td>\n",
              "      <td>1</td>\n",
              "    </tr>\n",
              "    <tr>\n",
              "      <th>11</th>\n",
              "      <td>8336.563333</td>\n",
              "      <td>4527.781000</td>\n",
              "      <td>-0.005511</td>\n",
              "      <td>-0.171411</td>\n",
              "      <td>0</td>\n",
              "    </tr>\n",
              "    <tr>\n",
              "      <th>12</th>\n",
              "      <td>7244.661290</td>\n",
              "      <td>4116.247097</td>\n",
              "      <td>-0.130977</td>\n",
              "      <td>-0.090891</td>\n",
              "      <td>0</td>\n",
              "    </tr>\n",
              "    <tr>\n",
              "      <th rowspan=\"7\" valign=\"top\">2020</th>\n",
              "      <th>1</th>\n",
              "      <td>8369.129032</td>\n",
              "      <td>5874.012903</td>\n",
              "      <td>0.155213</td>\n",
              "      <td>0.427031</td>\n",
              "      <td>1</td>\n",
              "    </tr>\n",
              "    <tr>\n",
              "      <th>2</th>\n",
              "      <td>9639.193103</td>\n",
              "      <td>4580.181724</td>\n",
              "      <td>0.151756</td>\n",
              "      <td>-0.220264</td>\n",
              "      <td>0</td>\n",
              "    </tr>\n",
              "    <tr>\n",
              "      <th>3</th>\n",
              "      <td>6874.983871</td>\n",
              "      <td>12572.352903</td>\n",
              "      <td>-0.286768</td>\n",
              "      <td>1.744946</td>\n",
              "      <td>1</td>\n",
              "    </tr>\n",
              "    <tr>\n",
              "      <th>4</th>\n",
              "      <td>7222.033333</td>\n",
              "      <td>8800.528333</td>\n",
              "      <td>0.050480</td>\n",
              "      <td>-0.300009</td>\n",
              "      <td>0</td>\n",
              "    </tr>\n",
              "    <tr>\n",
              "      <th>5</th>\n",
              "      <td>9257.038710</td>\n",
              "      <td>8811.408387</td>\n",
              "      <td>0.281777</td>\n",
              "      <td>0.001236</td>\n",
              "      <td>1</td>\n",
              "    </tr>\n",
              "    <tr>\n",
              "      <th>6</th>\n",
              "      <td>9478.633333</td>\n",
              "      <td>5290.551000</td>\n",
              "      <td>0.023938</td>\n",
              "      <td>-0.399579</td>\n",
              "      <td>0</td>\n",
              "    </tr>\n",
              "    <tr>\n",
              "      <th>7</th>\n",
              "      <td>9221.200000</td>\n",
              "      <td>1960.275000</td>\n",
              "      <td>-0.027159</td>\n",
              "      <td>-0.629476</td>\n",
              "      <td>0</td>\n",
              "    </tr>\n",
              "  </tbody>\n",
              "</table>\n",
              "</div>"
            ],
            "text/plain": [
              "                   Close    Volume BTC  ...  Adoption_Rate  Adoption_Sentiment\n",
              "year month                              ...                                   \n",
              "2018 12      3660.961290  10809.249677  ...       0.420798                   1\n",
              "2019 1       3658.887097   5676.563871  ...      -0.474842                   0\n",
              "     2       3659.517857   5037.871786  ...      -0.112514                   0\n",
              "     3       3870.152632   3066.398947  ...      -0.391330                   0\n",
              "     4       5145.396667   6688.315667  ...       1.181163                   1\n",
              "     5       7290.680645   9762.940968  ...       0.459701                   1\n",
              "     6       9396.356667   9015.924667  ...      -0.076515                   0\n",
              "     7      10668.674194   8513.994194  ...      -0.055672                   0\n",
              "     8      10631.609677   5779.655806  ...      -0.321158                   0\n",
              "     9       9790.593333   5091.644333  ...      -0.119040                   0\n",
              "     10      8382.764516   5464.444194  ...       0.073218                   1\n",
              "     11      8336.563333   4527.781000  ...      -0.171411                   0\n",
              "     12      7244.661290   4116.247097  ...      -0.090891                   0\n",
              "2020 1       8369.129032   5874.012903  ...       0.427031                   1\n",
              "     2       9639.193103   4580.181724  ...      -0.220264                   0\n",
              "     3       6874.983871  12572.352903  ...       1.744946                   1\n",
              "     4       7222.033333   8800.528333  ...      -0.300009                   0\n",
              "     5       9257.038710   8811.408387  ...       0.001236                   1\n",
              "     6       9478.633333   5290.551000  ...      -0.399579                   0\n",
              "     7       9221.200000   1960.275000  ...      -0.629476                   0\n",
              "\n",
              "[20 rows x 5 columns]"
            ]
          },
          "metadata": {
            "tags": []
          },
          "execution_count": 27
        }
      ]
    },
    {
      "cell_type": "markdown",
      "metadata": {
        "id": "_L7m4liyNFVU",
        "colab_type": "text"
      },
      "source": [
        "### Statistical Analysis"
      ]
    },
    {
      "cell_type": "code",
      "metadata": {
        "id": "W9lMrdq5NFVV",
        "colab_type": "code",
        "colab": {
          "base_uri": "https://localhost:8080/",
          "height": 170
        },
        "outputId": "560861d9-aefd-4c4e-97c6-4b83896819ac"
      },
      "source": [
        "bitcoin_price.Price_Returns.describe()"
      ],
      "execution_count": 28,
      "outputs": [
        {
          "output_type": "execute_result",
          "data": {
            "text/plain": [
              "count    81.000000\n",
              "mean      0.085325\n",
              "std       0.342350\n",
              "min      -0.315361\n",
              "25%      -0.078662\n",
              "50%       0.029252\n",
              "75%       0.148515\n",
              "max       2.466250\n",
              "Name: Price_Returns, dtype: float64"
            ]
          },
          "metadata": {
            "tags": []
          },
          "execution_count": 28
        }
      ]
    },
    {
      "cell_type": "code",
      "metadata": {
        "id": "JF4ROUZVNFVX",
        "colab_type": "code",
        "colab": {}
      },
      "source": [
        "# define Price_Returns constants\n",
        "price_mu = 0.085325 \n",
        "price_sigma = 0.342350\n",
        "price_x1 = -0.315361\n",
        "price_x2 = 2.466250"
      ],
      "execution_count": 29,
      "outputs": []
    },
    {
      "cell_type": "code",
      "metadata": {
        "id": "xPWe9X_yNFVZ",
        "colab_type": "code",
        "colab": {}
      },
      "source": [
        "# calculate the z-transform\n",
        "price_z1 = ( price_x1 - price_mu ) / price_sigma\n",
        "price_z2 = ( price_x2 - price_mu ) / price_sigma"
      ],
      "execution_count": 30,
      "outputs": []
    },
    {
      "cell_type": "code",
      "metadata": {
        "id": "JTjLJeAaNFVd",
        "colab_type": "code",
        "colab": {}
      },
      "source": [
        "# After the Z-transform of the lower and upper bounds are calculated, \n",
        "# we calculate the probability with SciPy's scipy.stats.norm.pdf() function\n",
        "price_x = np.arange(price_z1, price_z2, 0.1) # range of x in spec\n",
        "price_x_all = np.arange(-3, 3, 0.1) # entire range of x, both in and out of spec\n",
        "# mean = 0, stddev = 1, since Z-transform was calculated\n",
        "price_y = norm.pdf(price_x,0,1)\n",
        "price_y2 = norm.pdf(price_x_all,0,1)"
      ],
      "execution_count": 65,
      "outputs": []
    },
    {
      "cell_type": "markdown",
      "metadata": {
        "id": "xYzp0wDbbgFH",
        "colab_type": "text"
      },
      "source": [
        ""
      ]
    },
    {
      "cell_type": "code",
      "metadata": {
        "id": "czOSdJmbNFVg",
        "colab_type": "code",
        "colab": {
          "base_uri": "https://localhost:8080/",
          "height": 409
        },
        "outputId": "6e93d392-0a01-4539-846a-a16437715faf"
      },
      "source": [
        "# build the plot\n",
        "fig, price_ax = plt.subplots(figsize=(9,6))\n",
        "plt.style.use('fivethirtyeight')\n",
        "price_ax.plot(price_x_all,price_y2)\n",
        "\n",
        "price_ax.fill_between(price_x,price_y,0, alpha=0.3, color='b')\n",
        "price_ax.fill_between(price_x_all,price_y2,0, alpha=0.1)\n",
        "price_ax.set_xlim([-4,4])\n",
        "price_ax.set_xlabel('# of Standard Deviations Outside the Mean')\n",
        "price_ax.set_yticklabels([])\n",
        "price_ax.set_title('Normal Gaussian Curve for Bitcoin Price Returns')\n",
        "\n",
        "plt.savefig('normal_curve.png', dpi=72, bbox_inches='tight')\n",
        "plt.show()"
      ],
      "execution_count": 32,
      "outputs": [
        {
          "output_type": "display_data",
          "data": {
            "image/png": "[encoded data removed]",
            "text/plain": [
              "<Figure size 648x432 with 1 Axes>"
            ]
          },
          "metadata": {
            "tags": [],
            "needs_background": "light"
          }
        }
      ]
    },
    {
      "cell_type": "code",
      "metadata": {
        "id": "7TY3pTOINFVi",
        "colab_type": "code",
        "colab": {
          "base_uri": "https://localhost:8080/",
          "height": 170
        },
        "outputId": "d5158020-d9d2-4628-b07c-05ae3dff909d"
      },
      "source": [
        "bitcoin_price.Adoption_Rate.describe()"
      ],
      "execution_count": 33,
      "outputs": [
        {
          "output_type": "execute_result",
          "data": {
            "text/plain": [
              "count    81.000000\n",
              "mean      0.249218\n",
              "std       0.800782\n",
              "min      -0.632189\n",
              "25%      -0.300009\n",
              "50%       0.001236\n",
              "75%       0.461849\n",
              "max       3.874726\n",
              "Name: Adoption_Rate, dtype: float64"
            ]
          },
          "metadata": {
            "tags": []
          },
          "execution_count": 33
        }
      ]
    },
    {
      "cell_type": "code",
      "metadata": {
        "id": "W3KYTwtjNFVk",
        "colab_type": "code",
        "colab": {}
      },
      "source": [
        "# define adoption_Returns constants\n",
        "adoption_mu = 0.249218 \n",
        "adoption_sigma = 0.800782\n",
        "adoption_x1 = -0.632189\n",
        "adoption_x2 = 3.874726"
      ],
      "execution_count": 34,
      "outputs": []
    },
    {
      "cell_type": "code",
      "metadata": {
        "id": "H1YUwSu8NFVm",
        "colab_type": "code",
        "colab": {}
      },
      "source": [
        "# calculate the z-transform\n",
        "adoption_z1 = ( adoption_x1 - adoption_mu ) / adoption_sigma\n",
        "adoption_z2 = ( adoption_x2 - adoption_mu ) / adoption_sigma"
      ],
      "execution_count": 35,
      "outputs": []
    },
    {
      "cell_type": "code",
      "metadata": {
        "id": "jjeEJmqGNFVo",
        "colab_type": "code",
        "colab": {}
      },
      "source": [
        "# After the Z-transform of the lower and upper bounds are calculated, \n",
        "# we calculate the probability with SciPy's scipy.stats.norm.pdf() function\n",
        "adoption_x = np.arange(adoption_z1, adoption_z2, 0.1) # range of x in spec\n",
        "adoption_x_all = np.arange(-5, 5, 0.1) # entire range of x, both in and out of spec\n",
        "# mean = 0, stddev = 1, since Z-transform was calculated\n",
        "adoption_y = norm.pdf(adoption_x,0,1)\n",
        "adoption_y2 = norm.pdf(adoption_x_all,0,1)"
      ],
      "execution_count": 36,
      "outputs": []
    },
    {
      "cell_type": "code",
      "metadata": {
        "id": "sOSPhrqtNFVr",
        "colab_type": "code",
        "colab": {
          "base_uri": "https://localhost:8080/",
          "height": 441
        },
        "outputId": "602643a3-89ea-4fa9-b433-7abff2c2c114"
      },
      "source": [
        "# build the plot\n",
        "fig, adoption_ax = plt.subplots(figsize=(9,6))\n",
        "plt.style.use('fivethirtyeight')\n",
        "adoption_ax.plot(adoption_x_all,adoption_y2)\n",
        "\n",
        "adoption_ax.fill_between(adoption_x,adoption_y,0, alpha=0.3, color='b')\n",
        "adoption_ax.fill_between(adoption_x_all,adoption_y2,0, alpha=0.1)\n",
        "adoption_ax.set_xlim([-5,5])\n",
        "adoption_ax.set_xlabel('# of Standard Deviations Outside the Mean')\n",
        "adoption_ax.set_yticklabels([])\n",
        "adoption_ax.set_title('Normal Gaussian Curve for Bitcoin Adoption Rate')\n",
        "\n",
        "plt.savefig('normal_curve.png', dpi=72, bbox_inches='tight')\n",
        "plt.show()"
      ],
      "execution_count": 37,
      "outputs": [
        {
          "output_type": "display_data",
          "data": {
            "image/png": "[encoded data removed]",
            "text/plain": [
              "<Figure size 648x432 with 1 Axes>"
            ]
          },
          "metadata": {
            "tags": []
          }
        }
      ]
    },
    {
      "cell_type": "code",
      "metadata": {
        "id": "3ITy73KfNFVt",
        "colab_type": "code",
        "colab": {
          "base_uri": "https://localhost:8080/",
          "height": 235
        },
        "outputId": "8f27f3a1-0497-4d3d-a3c4-6864a7242d1a"
      },
      "source": [
        "# Solve for the correlation between Price Returns and Adoption Rate\n",
        "correlation_df = bitcoin_price[['Price_Returns', 'Adoption_Rate']]\n",
        "correlation_df.head()"
      ],
      "execution_count": 38,
      "outputs": [
        {
          "output_type": "execute_result",
          "data": {
            "text/html": [
              "<div>\n",
              "<style scoped>\n",
              "    .dataframe tbody tr th:only-of-type {\n",
              "        vertical-align: middle;\n",
              "    }\n",
              "\n",
              "    .dataframe tbody tr th {\n",
              "        vertical-align: top;\n",
              "    }\n",
              "\n",
              "    .dataframe thead th {\n",
              "        text-align: right;\n",
              "    }\n",
              "</style>\n",
              "<table border=\"1\" class=\"dataframe\">\n",
              "  <thead>\n",
              "    <tr style=\"text-align: right;\">\n",
              "      <th></th>\n",
              "      <th></th>\n",
              "      <th>Price_Returns</th>\n",
              "      <th>Adoption_Rate</th>\n",
              "    </tr>\n",
              "    <tr>\n",
              "      <th>year</th>\n",
              "      <th>month</th>\n",
              "      <th></th>\n",
              "      <th></th>\n",
              "    </tr>\n",
              "  </thead>\n",
              "  <tbody>\n",
              "    <tr>\n",
              "      <th rowspan=\"2\" valign=\"top\">2013</th>\n",
              "      <th>11</th>\n",
              "      <td>2.466250</td>\n",
              "      <td>0.873568</td>\n",
              "    </tr>\n",
              "    <tr>\n",
              "      <th>12</th>\n",
              "      <td>0.457480</td>\n",
              "      <td>0.327979</td>\n",
              "    </tr>\n",
              "    <tr>\n",
              "      <th rowspan=\"3\" valign=\"top\">2014</th>\n",
              "      <th>1</th>\n",
              "      <td>0.044927</td>\n",
              "      <td>-0.476820</td>\n",
              "    </tr>\n",
              "    <tr>\n",
              "      <th>2</th>\n",
              "      <td>-0.196812</td>\n",
              "      <td>0.333666</td>\n",
              "    </tr>\n",
              "    <tr>\n",
              "      <th>3</th>\n",
              "      <td>-0.096527</td>\n",
              "      <td>-0.561504</td>\n",
              "    </tr>\n",
              "  </tbody>\n",
              "</table>\n",
              "</div>"
            ],
            "text/plain": [
              "            Price_Returns  Adoption_Rate\n",
              "year month                              \n",
              "2013 11          2.466250       0.873568\n",
              "     12          0.457480       0.327979\n",
              "2014 1           0.044927      -0.476820\n",
              "     2          -0.196812       0.333666\n",
              "     3          -0.096527      -0.561504"
            ]
          },
          "metadata": {
            "tags": []
          },
          "execution_count": 38
        }
      ]
    },
    {
      "cell_type": "code",
      "metadata": {
        "id": "V5tqXNW0NFVv",
        "colab_type": "code",
        "colab": {
          "base_uri": "https://localhost:8080/",
          "height": 235
        },
        "outputId": "10f0b138-c974-40a0-efde-866b214835c4"
      },
      "source": [
        "correlation_df.tail()"
      ],
      "execution_count": 39,
      "outputs": [
        {
          "output_type": "execute_result",
          "data": {
            "text/html": [
              "<div>\n",
              "<style scoped>\n",
              "    .dataframe tbody tr th:only-of-type {\n",
              "        vertical-align: middle;\n",
              "    }\n",
              "\n",
              "    .dataframe tbody tr th {\n",
              "        vertical-align: top;\n",
              "    }\n",
              "\n",
              "    .dataframe thead th {\n",
              "        text-align: right;\n",
              "    }\n",
              "</style>\n",
              "<table border=\"1\" class=\"dataframe\">\n",
              "  <thead>\n",
              "    <tr style=\"text-align: right;\">\n",
              "      <th></th>\n",
              "      <th></th>\n",
              "      <th>Price_Returns</th>\n",
              "      <th>Adoption_Rate</th>\n",
              "    </tr>\n",
              "    <tr>\n",
              "      <th>year</th>\n",
              "      <th>month</th>\n",
              "      <th></th>\n",
              "      <th></th>\n",
              "    </tr>\n",
              "  </thead>\n",
              "  <tbody>\n",
              "    <tr>\n",
              "      <th rowspan=\"5\" valign=\"top\">2020</th>\n",
              "      <th>3</th>\n",
              "      <td>-0.286768</td>\n",
              "      <td>1.744946</td>\n",
              "    </tr>\n",
              "    <tr>\n",
              "      <th>4</th>\n",
              "      <td>0.050480</td>\n",
              "      <td>-0.300009</td>\n",
              "    </tr>\n",
              "    <tr>\n",
              "      <th>5</th>\n",
              "      <td>0.281777</td>\n",
              "      <td>0.001236</td>\n",
              "    </tr>\n",
              "    <tr>\n",
              "      <th>6</th>\n",
              "      <td>0.023938</td>\n",
              "      <td>-0.399579</td>\n",
              "    </tr>\n",
              "    <tr>\n",
              "      <th>7</th>\n",
              "      <td>-0.027159</td>\n",
              "      <td>-0.629476</td>\n",
              "    </tr>\n",
              "  </tbody>\n",
              "</table>\n",
              "</div>"
            ],
            "text/plain": [
              "            Price_Returns  Adoption_Rate\n",
              "year month                              \n",
              "2020 3          -0.286768       1.744946\n",
              "     4           0.050480      -0.300009\n",
              "     5           0.281777       0.001236\n",
              "     6           0.023938      -0.399579\n",
              "     7          -0.027159      -0.629476"
            ]
          },
          "metadata": {
            "tags": []
          },
          "execution_count": 39
        }
      ]
    },
    {
      "cell_type": "code",
      "metadata": {
        "id": "vX8uWOnCNFVx",
        "colab_type": "code",
        "colab": {
          "base_uri": "https://localhost:8080/",
          "height": 321
        },
        "outputId": "f0e5cd3a-223c-4406-8448-e4dea93e2798"
      },
      "source": [
        "correlation_df.plot()"
      ],
      "execution_count": 40,
      "outputs": [
        {
          "output_type": "execute_result",
          "data": {
            "text/plain": [
              "<matplotlib.axes._subplots.AxesSubplot at 0x7f5ebe3aba20>"
            ]
          },
          "metadata": {
            "tags": []
          },
          "execution_count": 40
        },
        {
          "output_type": "display_data",
          "data": {
            "image/png": "[encoded data removed]",
            "text/plain": [
              "<Figure size 432x288 with 1 Axes>"
            ]
          },
          "metadata": {
            "tags": []
          }
        }
      ]
    },
    {
      "cell_type": "code",
      "metadata": {
        "id": "6T75Ff1PNFV0",
        "colab_type": "code",
        "colab": {
          "base_uri": "https://localhost:8080/",
          "height": 322
        },
        "outputId": "8309931e-1a1a-47be-886d-54e51bac4306"
      },
      "source": [
        "# Plot the relationship between the two variables\n",
        "correlation_df.plot(kind='scatter', x='Price_Returns', y='Adoption_Rate')"
      ],
      "execution_count": 41,
      "outputs": [
        {
          "output_type": "execute_result",
          "data": {
            "text/plain": [
              "<matplotlib.axes._subplots.AxesSubplot at 0x7f5eb4bef278>"
            ]
          },
          "metadata": {
            "tags": []
          },
          "execution_count": 41
        },
        {
          "output_type": "display_data",
          "data": {
            "image/png": "[encoded data removed]",
            "text/plain": [
              "<Figure size 432x288 with 1 Axes>"
            ]
          },
          "metadata": {
            "tags": []
          }
        }
      ]
    },
    {
      "cell_type": "code",
      "metadata": {
        "id": "YAwOFhV1NFV2",
        "colab_type": "code",
        "colab": {
          "base_uri": "https://localhost:8080/",
          "height": 111
        },
        "outputId": "974d9127-4a5e-4acd-9c2d-fde618061f8e"
      },
      "source": [
        "# Calculate the correlation between each column\n",
        "correlation = correlation_df.corr()\n",
        "correlation"
      ],
      "execution_count": 42,
      "outputs": [
        {
          "output_type": "execute_result",
          "data": {
            "text/html": [
              "<div>\n",
              "<style scoped>\n",
              "    .dataframe tbody tr th:only-of-type {\n",
              "        vertical-align: middle;\n",
              "    }\n",
              "\n",
              "    .dataframe tbody tr th {\n",
              "        vertical-align: top;\n",
              "    }\n",
              "\n",
              "    .dataframe thead th {\n",
              "        text-align: right;\n",
              "    }\n",
              "</style>\n",
              "<table border=\"1\" class=\"dataframe\">\n",
              "  <thead>\n",
              "    <tr style=\"text-align: right;\">\n",
              "      <th></th>\n",
              "      <th>Price_Returns</th>\n",
              "      <th>Adoption_Rate</th>\n",
              "    </tr>\n",
              "  </thead>\n",
              "  <tbody>\n",
              "    <tr>\n",
              "      <th>Price_Returns</th>\n",
              "      <td>1.000000</td>\n",
              "      <td>0.012138</td>\n",
              "    </tr>\n",
              "    <tr>\n",
              "      <th>Adoption_Rate</th>\n",
              "      <td>0.012138</td>\n",
              "      <td>1.000000</td>\n",
              "    </tr>\n",
              "  </tbody>\n",
              "</table>\n",
              "</div>"
            ],
            "text/plain": [
              "               Price_Returns  Adoption_Rate\n",
              "Price_Returns       1.000000       0.012138\n",
              "Adoption_Rate       0.012138       1.000000"
            ]
          },
          "metadata": {
            "tags": []
          },
          "execution_count": 42
        }
      ]
    },
    {
      "cell_type": "code",
      "metadata": {
        "id": "frz_IAGbNFV4",
        "colab_type": "code",
        "colab": {
          "base_uri": "https://localhost:8080/",
          "height": 379
        },
        "outputId": "c72e0a41-d1dc-4cab-94c1-12d9f27c5781"
      },
      "source": [
        "# Use the `heatmap` function from the Seaborn library to visualize correlations\n",
        "import seaborn as sns\n",
        "sns.heatmap(correlation, vmin=-1, vmax=1)"
      ],
      "execution_count": 43,
      "outputs": [
        {
          "output_type": "stream",
          "text": [
            "/usr/local/lib/python3.6/dist-packages/statsmodels/tools/_testing.py:19: FutureWarning: pandas.util.testing is deprecated. Use the functions in the public API at pandas.testing instead.\n",
            "  import pandas.util.testing as tm\n"
          ],
          "name": "stderr"
        },
        {
          "output_type": "execute_result",
          "data": {
            "text/plain": [
              "<matplotlib.axes._subplots.AxesSubplot at 0x7f5ebe5d6208>"
            ]
          },
          "metadata": {
            "tags": []
          },
          "execution_count": 43
        },
        {
          "output_type": "display_data",
          "data": {
            "image/png": "[encoded data removed]",
            "text/plain": [
              "<Figure size 432x288 with 2 Axes>"
            ]
          },
          "metadata": {
            "tags": []
          }
        }
      ]
    },
    {
      "cell_type": "code",
      "metadata": {
        "id": "JFRKUz4MNFV8",
        "colab_type": "code",
        "colab": {
          "base_uri": "https://localhost:8080/",
          "height": 34
        },
        "outputId": "ec54977f-ad49-4122-d196-1f17a2629eba"
      },
      "source": [
        "from scipy.stats import skew\n",
        "print('Price Returns Skewness is:', skew(correlation_df.Price_Returns))"
      ],
      "execution_count": 67,
      "outputs": [
        {
          "output_type": "stream",
          "text": [
            "Price Returns Skewness is: 4.418608793833378\n"
          ],
          "name": "stdout"
        }
      ]
    },
    {
      "cell_type": "code",
      "metadata": {
        "id": "WySaE2JkNFV-",
        "colab_type": "code",
        "colab": {
          "base_uri": "https://localhost:8080/",
          "height": 34
        },
        "outputId": "bf5817b6-54b3-47ca-956b-ea0d13c3bb56"
      },
      "source": [
        "from scipy.stats import skew\n",
        "print('Adoption Rate Skewness is:', skew(correlation_df.Adoption_Rate))"
      ],
      "execution_count": 68,
      "outputs": [
        {
          "output_type": "stream",
          "text": [
            "Adoption Rate Skewness is: 1.851880901702074\n"
          ],
          "name": "stdout"
        }
      ]
    },
    {
      "cell_type": "code",
      "metadata": {
        "id": "t_dkFYCzNFWC",
        "colab_type": "code",
        "colab": {
          "base_uri": "https://localhost:8080/",
          "height": 136
        },
        "outputId": "9bd22426-1445-4ebb-ba43-1b8551d5754d"
      },
      "source": [
        "y.head(5)"
      ],
      "execution_count": 71,
      "outputs": [
        {
          "output_type": "execute_result",
          "data": {
            "text/plain": [
              "year  month\n",
              "2013  11       1\n",
              "      12       1\n",
              "2014  1        0\n",
              "      2        1\n",
              "      3        0\n",
              "Name: Adoption_Sentiment, dtype: int64"
            ]
          },
          "metadata": {
            "tags": []
          },
          "execution_count": 71
        }
      ]
    },
    {
      "cell_type": "code",
      "metadata": {
        "id": "Kmxs4iFZNFWL",
        "colab_type": "code",
        "colab": {
          "base_uri": "https://localhost:8080/",
          "height": 34
        },
        "outputId": "85e68355-2566-4297-c4fc-8892cf9c363d"
      },
      "source": [
        "from sklearn.model_selection import train_test_split\n",
        "\n",
        "X_train, X_test, y_train, y_test = train_test_split(X, \n",
        "                                                    y, \n",
        "                                                    random_state=1, \n",
        "                                                    stratify=y)\n",
        "X_train.shape"
      ],
      "execution_count": 49,
      "outputs": [
        {
          "output_type": "execute_result",
          "data": {
            "text/plain": [
              "(60, 2)"
            ]
          },
          "metadata": {
            "tags": []
          },
          "execution_count": 49
        }
      ]
    },
    {
      "cell_type": "code",
      "metadata": {
        "id": "Jg1F2aG7NFWN",
        "colab_type": "code",
        "colab": {
          "base_uri": "https://localhost:8080/",
          "height": 34
        },
        "outputId": "d3b6615e-e2a2-43cd-9a0a-8d61b65ebff3"
      },
      "source": [
        "y_train.shape"
      ],
      "execution_count": 50,
      "outputs": [
        {
          "output_type": "execute_result",
          "data": {
            "text/plain": [
              "(60,)"
            ]
          },
          "metadata": {
            "tags": []
          },
          "execution_count": 50
        }
      ]
    },
    {
      "cell_type": "code",
      "metadata": {
        "id": "s9SkTwBLNFWQ",
        "colab_type": "code",
        "colab": {
          "base_uri": "https://localhost:8080/",
          "height": 34
        },
        "outputId": "9a76d796-ca05-4dce-d586-92cb109b59d7"
      },
      "source": [
        "X_test.shape"
      ],
      "execution_count": 51,
      "outputs": [
        {
          "output_type": "execute_result",
          "data": {
            "text/plain": [
              "(21, 2)"
            ]
          },
          "metadata": {
            "tags": []
          },
          "execution_count": 51
        }
      ]
    },
    {
      "cell_type": "code",
      "metadata": {
        "id": "-5Cxx61fNFWS",
        "colab_type": "code",
        "colab": {
          "base_uri": "https://localhost:8080/",
          "height": 34
        },
        "outputId": "088b8999-3589-4b33-a69f-cdfe12c8deb1"
      },
      "source": [
        "y_test.shape"
      ],
      "execution_count": 52,
      "outputs": [
        {
          "output_type": "execute_result",
          "data": {
            "text/plain": [
              "(21,)"
            ]
          },
          "metadata": {
            "tags": []
          },
          "execution_count": 52
        }
      ]
    },
    {
      "cell_type": "code",
      "metadata": {
        "id": "B9mBipjyNFWU",
        "colab_type": "code",
        "colab": {
          "base_uri": "https://localhost:8080/",
          "height": 102
        },
        "outputId": "8d53f4a7-1cb5-402a-f344-8e4fb487657a"
      },
      "source": [
        "# Create the Logistic Regression Model\n",
        "from sklearn.linear_model import LogisticRegression\n",
        "classifier = LogisticRegression(solver='lbfgs',\n",
        "                                max_iter=200,\n",
        "                                random_state=1)\n",
        "classifier"
      ],
      "execution_count": 53,
      "outputs": [
        {
          "output_type": "execute_result",
          "data": {
            "text/plain": [
              "LogisticRegression(C=1.0, class_weight=None, dual=False, fit_intercept=True,\n",
              "                   intercept_scaling=1, l1_ratio=None, max_iter=200,\n",
              "                   multi_class='auto', n_jobs=None, penalty='l2',\n",
              "                   random_state=1, solver='lbfgs', tol=0.0001, verbose=0,\n",
              "                   warm_start=False)"
            ]
          },
          "metadata": {
            "tags": []
          },
          "execution_count": 53
        }
      ]
    },
    {
      "cell_type": "code",
      "metadata": {
        "id": "TMzIw9SmNFWa",
        "colab_type": "code",
        "colab": {
          "base_uri": "https://localhost:8080/",
          "height": 102
        },
        "outputId": "36a6604e-a84c-4c0d-936a-0ac397f3e12c"
      },
      "source": [
        "# Fit/Train the model using training data\n",
        "classifier.fit(X_train, y_train)"
      ],
      "execution_count": 74,
      "outputs": [
        {
          "output_type": "execute_result",
          "data": {
            "text/plain": [
              "LogisticRegression(C=1.0, class_weight=None, dual=False, fit_intercept=True,\n",
              "                   intercept_scaling=1, l1_ratio=None, max_iter=200,\n",
              "                   multi_class='auto', n_jobs=None, penalty='l2',\n",
              "                   random_state=1, solver='lbfgs', tol=0.0001, verbose=0,\n",
              "                   warm_start=False)"
            ]
          },
          "metadata": {
            "tags": []
          },
          "execution_count": 74
        }
      ]
    },
    {
      "cell_type": "code",
      "metadata": {
        "id": "K8B-a2b8NFWc",
        "colab_type": "code",
        "colab": {
          "base_uri": "https://localhost:8080/",
          "height": 51
        },
        "outputId": "95d7a561-b714-48c2-c851-61de17e59098"
      },
      "source": [
        "# Score/Validate the model\n",
        "print(f\"Training Data Score: {classifier.score(X_train, y_train)}\")\n",
        "print(f\"Testing Data Score: {classifier.score(X_test, y_test)}\")"
      ],
      "execution_count": 55,
      "outputs": [
        {
          "output_type": "stream",
          "text": [
            "Training Data Score: 0.6333333333333333\n",
            "Testing Data Score: 0.42857142857142855\n"
          ],
          "name": "stdout"
        }
      ]
    },
    {
      "cell_type": "code",
      "metadata": {
        "id": "EYwHmIvDNFWf",
        "colab_type": "code",
        "colab": {
          "base_uri": "https://localhost:8080/",
          "height": 669
        },
        "outputId": "e1489562-9a20-4b29-e818-812eeff83a6b"
      },
      "source": [
        "# Make Predictions\n",
        "predictions = classifier.predict(X_test)\n",
        "results = pd.DataFrame({\"Prediction\": predictions, \"Actual\": y_test}).reset_index(drop=True)\n",
        "results.head(20)"
      ],
      "execution_count": 56,
      "outputs": [
        {
          "output_type": "execute_result",
          "data": {
            "text/html": [
              "<div>\n",
              "<style scoped>\n",
              "    .dataframe tbody tr th:only-of-type {\n",
              "        vertical-align: middle;\n",
              "    }\n",
              "\n",
              "    .dataframe tbody tr th {\n",
              "        vertical-align: top;\n",
              "    }\n",
              "\n",
              "    .dataframe thead th {\n",
              "        text-align: right;\n",
              "    }\n",
              "</style>\n",
              "<table border=\"1\" class=\"dataframe\">\n",
              "  <thead>\n",
              "    <tr style=\"text-align: right;\">\n",
              "      <th></th>\n",
              "      <th>Prediction</th>\n",
              "      <th>Actual</th>\n",
              "    </tr>\n",
              "  </thead>\n",
              "  <tbody>\n",
              "    <tr>\n",
              "      <th>0</th>\n",
              "      <td>1</td>\n",
              "      <td>0</td>\n",
              "    </tr>\n",
              "    <tr>\n",
              "      <th>1</th>\n",
              "      <td>1</td>\n",
              "      <td>0</td>\n",
              "    </tr>\n",
              "    <tr>\n",
              "      <th>2</th>\n",
              "      <td>1</td>\n",
              "      <td>1</td>\n",
              "    </tr>\n",
              "    <tr>\n",
              "      <th>3</th>\n",
              "      <td>1</td>\n",
              "      <td>0</td>\n",
              "    </tr>\n",
              "    <tr>\n",
              "      <th>4</th>\n",
              "      <td>1</td>\n",
              "      <td>1</td>\n",
              "    </tr>\n",
              "    <tr>\n",
              "      <th>5</th>\n",
              "      <td>1</td>\n",
              "      <td>0</td>\n",
              "    </tr>\n",
              "    <tr>\n",
              "      <th>6</th>\n",
              "      <td>1</td>\n",
              "      <td>1</td>\n",
              "    </tr>\n",
              "    <tr>\n",
              "      <th>7</th>\n",
              "      <td>0</td>\n",
              "      <td>1</td>\n",
              "    </tr>\n",
              "    <tr>\n",
              "      <th>8</th>\n",
              "      <td>1</td>\n",
              "      <td>1</td>\n",
              "    </tr>\n",
              "    <tr>\n",
              "      <th>9</th>\n",
              "      <td>1</td>\n",
              "      <td>1</td>\n",
              "    </tr>\n",
              "    <tr>\n",
              "      <th>10</th>\n",
              "      <td>1</td>\n",
              "      <td>0</td>\n",
              "    </tr>\n",
              "    <tr>\n",
              "      <th>11</th>\n",
              "      <td>1</td>\n",
              "      <td>0</td>\n",
              "    </tr>\n",
              "    <tr>\n",
              "      <th>12</th>\n",
              "      <td>1</td>\n",
              "      <td>1</td>\n",
              "    </tr>\n",
              "    <tr>\n",
              "      <th>13</th>\n",
              "      <td>0</td>\n",
              "      <td>1</td>\n",
              "    </tr>\n",
              "    <tr>\n",
              "      <th>14</th>\n",
              "      <td>1</td>\n",
              "      <td>0</td>\n",
              "    </tr>\n",
              "    <tr>\n",
              "      <th>15</th>\n",
              "      <td>0</td>\n",
              "      <td>1</td>\n",
              "    </tr>\n",
              "    <tr>\n",
              "      <th>16</th>\n",
              "      <td>1</td>\n",
              "      <td>1</td>\n",
              "    </tr>\n",
              "    <tr>\n",
              "      <th>17</th>\n",
              "      <td>1</td>\n",
              "      <td>0</td>\n",
              "    </tr>\n",
              "    <tr>\n",
              "      <th>18</th>\n",
              "      <td>1</td>\n",
              "      <td>0</td>\n",
              "    </tr>\n",
              "    <tr>\n",
              "      <th>19</th>\n",
              "      <td>1</td>\n",
              "      <td>1</td>\n",
              "    </tr>\n",
              "  </tbody>\n",
              "</table>\n",
              "</div>"
            ],
            "text/plain": [
              "    Prediction  Actual\n",
              "0            1       0\n",
              "1            1       0\n",
              "2            1       1\n",
              "3            1       0\n",
              "4            1       1\n",
              "5            1       0\n",
              "6            1       1\n",
              "7            0       1\n",
              "8            1       1\n",
              "9            1       1\n",
              "10           1       0\n",
              "11           1       0\n",
              "12           1       1\n",
              "13           0       1\n",
              "14           1       0\n",
              "15           0       1\n",
              "16           1       1\n",
              "17           1       0\n",
              "18           1       0\n",
              "19           1       1"
            ]
          },
          "metadata": {
            "tags": []
          },
          "execution_count": 56
        }
      ]
    },
    {
      "cell_type": "code",
      "metadata": {
        "id": "D5zUtiPzNFWh",
        "colab_type": "code",
        "colab": {
          "base_uri": "https://localhost:8080/",
          "height": 304
        },
        "outputId": "eba3adfc-6200-4d5e-aa45-26907b9a3d2b"
      },
      "source": [
        "import seaborn as sns\n",
        "sns.heatmap(results)"
      ],
      "execution_count": 57,
      "outputs": [
        {
          "output_type": "execute_result",
          "data": {
            "text/plain": [
              "<matplotlib.axes._subplots.AxesSubplot at 0x7f5eb4907b00>"
            ]
          },
          "metadata": {
            "tags": []
          },
          "execution_count": 57
        },
        {
          "output_type": "display_data",
          "data": {
            "image/png": "[encoded data removed]",
            "text/plain": [
              "<Figure size 432x288 with 2 Axes>"
            ]
          },
          "metadata": {
            "tags": []
          }
        }
      ]
    },
    {
      "cell_type": "code",
      "metadata": {
        "id": "xkp8TgpANFWj",
        "colab_type": "code",
        "colab": {
          "base_uri": "https://localhost:8080/",
          "height": 51
        },
        "outputId": "b5176405-c398-4953-af0b-e6d8006eecbf"
      },
      "source": [
        "from sklearn.metrics import confusion_matrix\n",
        "confusion_matrix(y_test, predictions)"
      ],
      "execution_count": 58,
      "outputs": [
        {
          "output_type": "execute_result",
          "data": {
            "text/plain": [
              "array([[1, 9],\n",
              "       [3, 8]])"
            ]
          },
          "metadata": {
            "tags": []
          },
          "execution_count": 58
        }
      ]
    },
    {
      "cell_type": "code",
      "metadata": {
        "id": "_MKkEmqaNFWl",
        "colab_type": "code",
        "colab": {
          "base_uri": "https://localhost:8080/",
          "height": 295
        },
        "outputId": "abd22691-826e-451c-bf43-4d475c8df4e7"
      },
      "source": [
        "import itertools\n",
        "matrix = confusion_matrix(y_test, predictions)\n",
        "class_names = ['Negative','Positive']\n",
        "plt.clf()\n",
        "\n",
        "# place labels at the top\n",
        "plt.gca().xaxis.tick_top()\n",
        "plt.gca().xaxis.set_label_position('top')\n",
        "\n",
        "# plot the matrix per se\n",
        "plt.imshow(matrix, interpolation='nearest', cmap=plt.cm.Blues)\n",
        "\n",
        "# plot colorbar to the right\n",
        "plt.colorbar()\n",
        "\n",
        "fmt = 'd'\n",
        "\n",
        "# write the number of predictions in each bucket\n",
        "thresh = matrix.max() / 2.\n",
        "for i, j in itertools.product(range(matrix.shape[0]), range(matrix.shape[1])):\n",
        "\n",
        "    # if background is dark, use a white number, and vice-versa\n",
        "    plt.text(j, i, format(matrix[i, j], fmt),\n",
        "         horizontalalignment=\"center\",\n",
        "         color=\"white\" if matrix[i, j] > thresh else \"black\")\n",
        "\n",
        "tick_marks = np.arange(len(class_names))\n",
        "plt.xticks(tick_marks, class_names, rotation=45)\n",
        "plt.yticks(tick_marks, class_names)\n",
        "plt.tight_layout()\n",
        "plt.ylabel('Actual',size=14)\n",
        "plt.xlabel('Predictions',size=14)\n",
        "plt.show()"
      ],
      "execution_count": 59,
      "outputs": [
        {
          "output_type": "display_data",
          "data": {
            "image/png": "[encoded data removed]",
            "text/plain": [
              "<Figure size 432x288 with 2 Axes>"
            ]
          },
          "metadata": {
            "tags": []
          }
        }
      ]
    },
    {
      "cell_type": "code",
      "metadata": {
        "id": "Vuf8M5ICNFWo",
        "colab_type": "code",
        "colab": {
          "base_uri": "https://localhost:8080/",
          "height": 170
        },
        "outputId": "c1aa8289-83ae-488c-f49e-e789abcff351"
      },
      "source": [
        "# Create a classification report\n",
        "from sklearn.metrics import classification_report\n",
        "target_names = [\"Positive\", \"Negative\"]\n",
        "print(classification_report(y_test, predictions, target_names=target_names))"
      ],
      "execution_count": 60,
      "outputs": [
        {
          "output_type": "stream",
          "text": [
            "              precision    recall  f1-score   support\n",
            "\n",
            "    Positive       0.25      0.10      0.14        10\n",
            "    Negative       0.47      0.73      0.57        11\n",
            "\n",
            "    accuracy                           0.43        21\n",
            "   macro avg       0.36      0.41      0.36        21\n",
            "weighted avg       0.37      0.43      0.37        21\n",
            "\n"
          ],
          "name": "stdout"
        }
      ]
    }
  ]
}